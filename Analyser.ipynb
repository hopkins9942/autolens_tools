{
 "cells": [
  {
   "cell_type": "markdown",
   "metadata": {},
   "source": [
    "Analyser.ipynb: \n",
    "Uses aggregator to summarise results of phases for quick and easy analysis.\n",
    "\n",
    "Change \"workspace_path\" to the location of your workspace, \"data_path\" to the directory containing the phases you want to analyse and filter results with the \"agg.filter\" method."
   ]
  },
  {
   "cell_type": "code",
   "execution_count": null,
   "metadata": {},
   "outputs": [],
   "source": [
    "from autoconf import conf\n",
    "workspace_path = \"/home/matthew/Durham2020/AutoLensWorkspace/autolens_workspace/\"\n",
    "conf.instance = conf.Config(\n",
    "    config_path=f\"{workspace_path}config\",\n",
    ")"
   ]
  },
  {
   "cell_type": "code",
   "execution_count": null,
   "metadata": {},
   "outputs": [],
   "source": [
    "import autolens as al\n",
    "import autofit as af\n",
    "import autolens.plot as aplt\n",
    "import os\n",
    "import numpy as np\n",
    "import matplotlib.pyplot as plt"
   ]
  },
  {
   "cell_type": "code",
   "execution_count": null,
   "metadata": {},
   "outputs": [],
   "source": [
    "data_path=\"/home/matthew/Durham2020/Outputs/Run3/\"\n",
    "agg = af.Aggregator(directory=data_path)\n",
    "\n",
    "phase_name = \"phase_1\"\n",
    "agg_filter_phase = agg.filter(agg.phase == phase_name)"
   ]
  },
  {
   "cell_type": "code",
   "execution_count": null,
   "metadata": {},
   "outputs": [],
   "source": [
    "def radial_mass_graph(galaxy_dict):\n",
    "    \n",
    "    n_directions = 20\n",
    "    r_array = np.arange(0.0,5,0.01)\n",
    "    e_radius_list = []\n",
    "    fig, axs = plt.subplots(1, len(galaxy_dict) + 1, figsize = (25,8))\n",
    "    axs_index = 0\n",
    "    warning_bool = False\n",
    "    def trip_warning(profile):\n",
    "        return (profile.centre[0]**2 + profile.centre[1]**2 > 0.0**2)\n",
    "    for galaxy_key in galaxy_dict:\n",
    "        galaxy = galaxy_dict[galaxy_key]\n",
    "        e_radius = galaxy.einstein_radius_in_units()\n",
    "        e_radius_list.append(e_radius)\n",
    "        conv_array = np.zeros(r_array.shape)\n",
    "        total_conv_array = np.zeros(r_array.shape)\n",
    "        angle_array = np.array([np.sin(np.arange(0, 2*np.pi, 2*np.pi/n_directions)),\n",
    "                                np.cos(np.arange(0, 2*np.pi, 2*np.pi/n_directions))]).transpose()\n",
    "        N_profiles = 0\n",
    "        for key in galaxy.__dict__:\n",
    "            if isinstance(galaxy.__dict__[key], al.mp.MassProfile):\n",
    "                profile = galaxy.__dict__[key]\n",
    "                label = key\n",
    "                N_profiles+=1\n",
    "                if trip_warning(profile): warning_bool=True\n",
    "                for i in range(r_array.size):\n",
    "                    grid = r_array[i]*angle_array\n",
    "                    conv_array[i] = float(np.average(profile.convergence_from_grid(grid=grid)))\n",
    "                axs[axs_index].plot(r_array, conv_array, label=label)\n",
    "                total_conv_array+=conv_array\n",
    "        if N_profiles>1:\n",
    "            axs[axs_index].plot(r_array, total_conv_array, label = \"Total\")\n",
    "        axs[axs_index].legend()\n",
    "        axs[axs_index].autoscale(tight=True)\n",
    "        axs[axs_index].set_yscale('log')\n",
    "        axs[axs_index].plot([e_radius,e_radius], axs[axs_index].get_ylim(), axs[axs_index].lines[-1].get_color(), linestyle='dashed')\n",
    "        axs[axs_index].set_xlabel('Distance from centre /arcseconds')\n",
    "        axs[axs_index].set_ylabel('Average Convergence')\n",
    "        axs[axs_index].set_title(galaxy_key)\n",
    "        axs[-1].plot(r_array, total_conv_array, label = galaxy_key)\n",
    "        axs_index+=1\n",
    "    \n",
    "    axs[-1].set_xlabel('Distance from centre /arcseconds')\n",
    "    axs[-1].set_ylabel('Average Convergence')\n",
    "    axs[-1].set_title(\"Totals\")\n",
    "    axs[-1].legend()\n",
    "    axs[-1].autoscale(tight=True)\n",
    "    axs[-1].set_yscale('log')\n",
    "    for index in range(len(e_radius_list)):\n",
    "        e_radius = e_radius_list[index]\n",
    "        axs[-1].plot([e_radius,e_radius],axs[-1].get_ylim(),axs[-1].lines[index].get_color(),linestyle='dashed')\n",
    "    plt.show()\n",
    "    if warning_bool: print(\"WARNING: OFF-CENTRE MASS PROFILES\")"
   ]
  },
  {
   "cell_type": "code",
   "execution_count": null,
   "metadata": {},
   "outputs": [],
   "source": [
    "for phase in agg:\n",
    "    output = phase.samples\n",
    "    dataset = phase.dataset\n",
    "    mask = phase.mask\n",
    "    masked_imaging = al.MaskedImaging(imaging=dataset, mask=mask)\n",
    "    fitted_tracer = al.Tracer.from_galaxies(\n",
    "        galaxies=output.max_log_likelihood_instance.galaxies\n",
    "    )\n",
    "    true_tracer = phase.true_tracer\n",
    "    \n",
    "    \n",
    "    print(\"\\nPhase:\")\n",
    "    if phase.name != None: print(f\"\\n{phase.name}\")\n",
    "    if dataset.name != None: print(f\"\\nDataset name: {dataset.name}\")\n",
    "    print(f\"\\nPhase directory:\")\n",
    "    print(f\"{phase.directory}\")\n",
    "    if phase.info != None:\n",
    "        print(\"\\nInfo:\")\n",
    "        print(f\"{phase.info}\")\n",
    "    \n",
    "    print(\"\\n\\nTrue Galaxies:\")\n",
    "    for galaxy in true_tracer.galaxies: print(f\"\\n{galaxy}\")\n",
    "    \n",
    "    print(\"\\n\\nFitted Galaxies:\")\n",
    "    #for i in range(len(output.parameter_names)):\n",
    "    #    print(f\"{output.parameter_names[i]} = {output.parameters[-1][i]}\")\n",
    "    \n",
    "    for galaxy in fitted_tracer.galaxies: print(f\"\\n{galaxy}\")\n",
    "    \n",
    "    print(\"\\n\\nFit Imaging:\")\n",
    "    aplt.FitImaging.subplot_fit_imaging(fit=al.FitImaging(masked_imaging=masked_imaging, tracer=fitted_tracer))\n",
    "    \n",
    "    print(\"\\nRadial Mass Distributions: (Dashed lines correspond to Einstein radii of each galaxy)\\n\")\n",
    "    radial_mass_graph({\n",
    "        \"True Lens Galaxy\": true_tracer.galaxies[0],\n",
    "        \"Fitted Lens Galaxy\": fitted_tracer.galaxies[0]\n",
    "    })\n",
    "    \n",
    "    print(\"\\nFitted Source Plane:\\n\")\n",
    "    aplt.Plane.plane_image(plane=fitted_tracer.planes[-1], grid=al.Grid.uniform(shape_2d=(100, 100), pixel_scales=0.025))"
   ]
  }
 ],
 "metadata": {
  "kernelspec": {
   "display_name": "Python 3",
   "language": "python",
   "name": "python3"
  },
  "language_info": {
   "codemirror_mode": {
    "name": "ipython",
    "version": 3
   },
   "file_extension": ".py",
   "mimetype": "text/x-python",
   "name": "python",
   "nbconvert_exporter": "python",
   "pygments_lexer": "ipython3",
   "version": "3.8.2"
  }
 },
 "nbformat": 4,
 "nbformat_minor": 4
}
